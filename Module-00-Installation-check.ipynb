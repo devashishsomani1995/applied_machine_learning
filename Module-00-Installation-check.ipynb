{
 "cells": [
  {
   "cell_type": "markdown",
   "metadata": {},
   "source": [
    "# Installation Check\n",
    "\n",
    "This notebook is just to check we have all the libraries installationed and ready to go"
   ]
  },
  {
   "cell_type": "code",
   "execution_count": 1,
   "metadata": {},
   "outputs": [],
   "source": [
    "import importlib"
   ]
  },
  {
   "cell_type": "code",
   "execution_count": 2,
   "metadata": {},
   "outputs": [],
   "source": [
    "working_libs = [\"jupyterlab\"]\n",
    "basic_libs = [\"numpy\", \"pandas\"]\n",
    "ml_libs = [\"sklearn\", \"joblib\"]\n",
    "vis_libs = [\"matplotlib\", \"seaborn\", \"altair\", \"plotnine\", \"modelvis\", \"yellowbrick\"]"
   ]
  },
  {
   "cell_type": "code",
   "execution_count": 3,
   "metadata": {},
   "outputs": [],
   "source": [
    "libs = working_libs + basic_libs + ml_libs + vis_libs"
   ]
  },
  {
   "cell_type": "code",
   "execution_count": 4,
   "metadata": {},
   "outputs": [],
   "source": [
    "def get_version(libs):\n",
    "    for lib in libs:\n",
    "        module = importlib.import_module(lib)\n",
    "        ver = getattr(module, \"__version__\")\n",
    "        print(ver, \"\\t \", lib)"
   ]
  },
  {
   "cell_type": "code",
   "execution_count": 5,
   "metadata": {},
   "outputs": [
    {
     "name": "stdout",
     "output_type": "stream",
     "text": [
      "0.35.4 \t  jupyterlab\n",
      "1.15.4 \t  numpy\n",
      "0.23.4 \t  pandas\n",
      "0.20.0 \t  sklearn\n",
      "0.13.0 \t  joblib\n",
      "3.0.2 \t  matplotlib\n",
      "0.9.0 \t  seaborn\n",
      "2.2.2 \t  altair\n",
      "0.5.1 \t  plotnine\n",
      "0.1.6 \t  modelvis\n"
     ]
    }
   ],
   "source": [
    "get_version(libs)"
   ]
  },
  {
   "cell_type": "code",
   "execution_count": 6,
   "metadata": {},
   "outputs": [],
   "source": [
    "lib_rqmt = []\n",
    "def requirements(libs):\n",
    "    for lib in libs:\n",
    "        module = importlib.import_module(lib)\n",
    "        ver = getattr(module, \"__version__\")\n",
    "        lib_ver = \"- \"+lib+\">=\"+ver\n",
    "        lib_rqmt.append(lib_ver)\n",
    "        print(lib_ver)"
   ]
  },
  {
   "cell_type": "code",
   "execution_count": 7,
   "metadata": {},
   "outputs": [
    {
     "name": "stdout",
     "output_type": "stream",
     "text": [
      "- jupyterlab>=0.35.4\n",
      "- numpy>=1.15.4\n",
      "- pandas>=0.23.4\n",
      "- sklearn>=0.20.0\n",
      "- joblib>=0.13.0\n",
      "- matplotlib>=3.0.2\n",
      "- seaborn>=0.9.0\n",
      "- altair>=2.2.2\n",
      "- plotnine>=0.5.1\n",
      "- modelvis>=0.1.6\n"
     ]
    }
   ],
   "source": [
    "requirements(libs)"
   ]
  },
  {
   "cell_type": "code",
   "execution_count": 8,
   "metadata": {},
   "outputs": [
    {
     "data": {
      "text/plain": [
       "['- jupyterlab>=0.35.4',\n",
       " '- numpy>=1.15.4',\n",
       " '- pandas>=0.23.4',\n",
       " '- sklearn>=0.20.0',\n",
       " '- joblib>=0.13.0',\n",
       " '- matplotlib>=3.0.2',\n",
       " '- seaborn>=0.9.0',\n",
       " '- altair>=2.2.2',\n",
       " '- plotnine>=0.5.1',\n",
       " '- modelvis>=0.1.6']"
      ]
     },
     "execution_count": 8,
     "metadata": {},
     "output_type": "execute_result"
    }
   ],
   "source": [
    "lib_rqmt"
   ]
  },
  {
   "cell_type": "code",
   "execution_count": null,
   "metadata": {},
   "outputs": [],
   "source": []
  }
 ],
 "metadata": {
  "kernelspec": {
   "display_name": "Python 3",
   "language": "python",
   "name": "python3"
  },
  "language_info": {
   "codemirror_mode": {
    "name": "ipython",
    "version": 3
   },
   "file_extension": ".py",
   "mimetype": "text/x-python",
   "name": "python",
   "nbconvert_exporter": "python",
   "pygments_lexer": "ipython3",
   "version": "3.7.1"
  }
 },
 "nbformat": 4,
 "nbformat_minor": 2
}
